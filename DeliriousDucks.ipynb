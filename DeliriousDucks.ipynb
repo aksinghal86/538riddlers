{
 "cells": [
  {
   "cell_type": "markdown",
   "metadata": {},
   "source": [
    "# Riddler Classic (538 Blog)\n",
    "\n",
    "Posted by FiveThirtyEight on January 17, 2020\n",
    "\n",
    ">After a long night of frivolous quackery, two delirious ducks are having a difficult time finding each other in their pond. The pond happens to contain a 3×3 grid of rocks.\n",
    ">\n",
    ">Every minute, each duck randomly swims, independently of the other duck, from one rock to a neighboring rock in the 3×3 grid — up, down, left or right, but not diagonally. So if a duck is at the middle rock, it will next swim to one of the four side rocks with probability 1/4. From a side rock, it will swim to one of the two adjacent corner rocks or back to the middle rock, each with probability 1/3. And from a corner rock, it will swim to one of the two adjacent side rocks with probability 1/2.\n",
    ">\n",
    ">If the ducks both start at the middle rock, then on average, how long will it take until they’re at the same rock again? (Of course, there’s a 1/4 chance that they’ll swim in the same direction after the first minute, in which case it would only take one minute for them to be at the same rock again. But it could take much longer, if they happen to keep missing each other.)\n",
    ">\n",
    ">Extra credit: What if there are three or more ducks? If they all start in the middle rock, on average, how long will it take until they are all at the same rock again?\n",
    "\n"
   ]
  },
  {
   "cell_type": "code",
   "execution_count": 3,
   "metadata": {},
   "outputs": [],
   "source": [
    "import numpy as np"
   ]
  },
  {
   "cell_type": "markdown",
   "metadata": {},
   "source": [
    "Possible duck positions in an infinite grid: \n",
    "- `(i-1, j)`, \n",
    "- `(i+1, j)`, \n",
    "- `(i, j-1)`,\n",
    "- `(i, j+1)`\n",
    "\n",
    "In a 3 x 3 grid: \n",
    "- `(max(i-1,0), j)`: Create the lower bound for the grid row at 0. \n",
    "- `(min(i+1,2), j)`: Create the upper bound for the grid row at 2.\n",
    "- `(i, max(j-1,0))`: Create the lower bound for the grid column at 0.\n",
    "- `(i, min(j+1,2))`: Create the upper bound for the grid column at 2."
   ]
  },
  {
   "cell_type": "code",
   "execution_count": 39,
   "metadata": {},
   "outputs": [],
   "source": [
    "def move_ducks(grid_shape, n_ducks, duck_positions):\n",
    "    \"\"\"\n",
    "    Move the ducks within the grid.  They can only go orthogonally to \n",
    "    their current position.  Diagonal movement is not possible\n",
    "    \n",
    "    Parameters\n",
    "    ----------\n",
    "    grid_shape: tuple, Shape of the pond\n",
    "    n_ducks: int, Number of ducks\n",
    "    duck_positions: list of tuples, Position for each duck in a tuple combined together in a list\n",
    "    \n",
    "    Returns\n",
    "    -------\n",
    "    List of new duck positions as tuples\n",
    "    \"\"\"\n",
    "    #print('Current duck positions: {}. Moving them now'.format(duck_positions))\n",
    "    \n",
    "    # Loop over the number of ducks\n",
    "    for duck in range(n_ducks):\n",
    "        # Get the ith and jth position of the duck\n",
    "        i, j = duck_positions[duck]\n",
    "        \n",
    "        # Identify all the possible movement options\n",
    "        # If the position is out-of-bounds the position will stay the same as current position\n",
    "        possible_positions = [(max(i-1, 0), j), # Lower row bound\n",
    "                              (min(i+1, grid_shape[0]-1), j), # Upper row bound\n",
    "                              (i, max(j-1, 0)), # Lower column bound\n",
    "                              (i,  min(j+1, grid_shape[1]-1))] # Upper column bound\n",
    "        \n",
    "        # Remove current position from possible positions \n",
    "        possible_positions = [position for position in possible_positions \n",
    "                                  if (i, j) != position]\n",
    "        \n",
    "        # Randomly pick the next possible positions out of the list\n",
    "        next_position_idx = np.random.randint(0, len(possible_positions))\n",
    "        \n",
    "        # Set the next position\n",
    "        duck_positions[duck] = possible_positions[next_position_idx]\n",
    "        \n",
    "    #print('New duck positions after one move: ', duck_positions)\n",
    "    return duck_positions\n",
    "\n",
    "def steps_until_meeting(grid_shape, n_ducks, starting_position=(1, 1)):\n",
    "    \"\"\"\n",
    "    Identifies the number of steps it takes for ducks to meet each other\n",
    "    \n",
    "    Parameters\n",
    "    ----------\n",
    "    grid_shape: tuple, Shape of the pond\n",
    "    n_ducks: int, Number of ducks\n",
    "    starting_position: tuple, Position within the grid where all ducks start. Default: (1, 1)\n",
    "    \n",
    "    Return\n",
    "    ------\n",
    "    Number of steps it takes for ALL ducks to meet each other   \n",
    "    \n",
    "    \"\"\"\n",
    "    current_positions = [starting_position] * n_ducks\n",
    "    steps = 0\n",
    "    \n",
    "    # Initialize one move\n",
    "    positions = move_ducks(grid_shape, n_ducks, current_positions)\n",
    "    steps += 1\n",
    "   \n",
    "    while len(set(positions)) != 1:\n",
    "        #print(\"Ducks still wandering around trying to find each other\")\n",
    "        #print(\"It's been {} steps since they last saw each other\".format(steps))\n",
    "        #print()\n",
    "        positions = move_ducks(grid.shape, n_ducks, current_positions)\n",
    "        steps += 1\n",
    "    \n",
    "    #print('Ducks meet again. It took {} steps for them to find each other'.format(steps))\n",
    "    #print()\n",
    "    \n",
    "    return steps"
   ]
  },
  {
   "cell_type": "code",
   "execution_count": 51,
   "metadata": {},
   "outputs": [
    {
     "name": "stdout",
     "output_type": "stream",
     "text": [
      "0 out of 100000 iterations...\n",
      "10000 out of 100000 iterations...\n",
      "20000 out of 100000 iterations...\n",
      "30000 out of 100000 iterations...\n",
      "40000 out of 100000 iterations...\n",
      "50000 out of 100000 iterations...\n",
      "60000 out of 100000 iterations...\n",
      "70000 out of 100000 iterations...\n",
      "80000 out of 100000 iterations...\n",
      "90000 out of 100000 iterations...\n",
      "\n",
      "\n",
      "Over 100000 iterations, it took 4.9 steps on average for the ducks to find each other\n"
     ]
    }
   ],
   "source": [
    "# Initialize parameters.  Can all be modified\n",
    "iterations = 100000\n",
    "grid_shape = (3, 3)\n",
    "n_ducks = 2\n",
    "starting_position = (1, 1)\n",
    "\n",
    "iter_list = np.zeros(iterations)\n",
    "for i in range(iterations):\n",
    "    if i % 10000 == 0:\n",
    "        print('{0} out of {1} iterations...'.format(i, iterations))\n",
    "    iter_list[i] = steps_until_meeting(grid_shape, n_ducks, starting_position)\n",
    "\n",
    "print('\\n\\nOver {0} iterations, it took {1} steps on average \\\n",
    "for the ducks to find each other'.format(iterations, round(np.average(iter_list), 1)))"
   ]
  }
 ],
 "metadata": {
  "kernelspec": {
   "display_name": "Python 3",
   "language": "python",
   "name": "python3"
  },
  "language_info": {
   "codemirror_mode": {
    "name": "ipython",
    "version": 3
   },
   "file_extension": ".py",
   "mimetype": "text/x-python",
   "name": "python",
   "nbconvert_exporter": "python",
   "pygments_lexer": "ipython3",
   "version": "3.7.3"
  }
 },
 "nbformat": 4,
 "nbformat_minor": 2
}
